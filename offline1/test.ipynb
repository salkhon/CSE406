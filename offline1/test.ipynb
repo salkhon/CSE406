{
 "cells": [
  {
   "cell_type": "code",
   "execution_count": 1,
   "metadata": {},
   "outputs": [],
   "source": [
    "from collections.abc import Callable\n",
    "from typing import Any, TypeVar\n",
    "from BitVector import BitVector\n",
    "import numpy as np\n",
    "import numpy.typing as npt"
   ]
  },
  {
   "cell_type": "code",
   "execution_count": 3,
   "metadata": {},
   "outputs": [],
   "source": [
    "def convert_str_to_unicode_int_array(key: str) -> npt.NDArray[np.uint8]:\n",
    "        \"\"\"Convert string to an array of unicode ints.\n",
    "\n",
    "        Args:\n",
    "            key (str): Key string\n",
    "\n",
    "        Returns:\n",
    "            npt.NDArray[np.uint8]: array of UNICODE ints of the chars\n",
    "        \"\"\"\n",
    "        return np.array([ord(c) for c in key])"
   ]
  },
  {
   "cell_type": "code",
   "execution_count": 8,
   "metadata": {},
   "outputs": [],
   "source": [
    "def convert_16_byte_key_to_4x4_array(key: str) -> npt.NDArray[np.uint8]:\n",
    "    \"\"\"Convert 16 character key (HAS TO BE 16 character KEY) to a 4x4 column major matrix of\n",
    "    4 4-character words, whose UNICODE numbers are stored in the matrix.\n",
    "\n",
    "    Args:\n",
    "        key (str): 16 byte keys\n",
    "\n",
    "    Returns:\n",
    "        npt.NDArray[np.uint8]: 2D column wise matrix, each column having the UNICODE number of a 4 \n",
    "        character word\n",
    "    \"\"\"\n",
    "\n",
    "    words = [convert_str_to_unicode_int_array(key[i:i+4]) for i in range(0, len(key), 4)]\n",
    "    return np.array(words).T"
   ]
  },
  {
   "cell_type": "code",
   "execution_count": 9,
   "metadata": {},
   "outputs": [
    {
     "name": "stdout",
     "output_type": "stream",
     "text": [
      "[[ 84 115  32 103]\n",
      " [104  32  75  32]\n",
      " [ 97 109 117  70]\n",
      " [116 121 110 117]]\n"
     ]
    },
    {
     "data": {
      "text/plain": [
       "(4, 4)"
      ]
     },
     "execution_count": 9,
     "metadata": {},
     "output_type": "execute_result"
    }
   ],
   "source": [
    "a = convert_16_byte_key_to_4x4_array(\"Thats my Kung Fu\")\n",
    "print(a)\n",
    "a.shape"
   ]
  },
  {
   "cell_type": "code",
   "execution_count": 10,
   "metadata": {},
   "outputs": [
    {
     "name": "stdout",
     "output_type": "stream",
     "text": [
      "[['0x54' '0x73' '0x20' '0x67']\n",
      " ['0x68' '0x20' '0x4b' '0x20']\n",
      " ['0x61' '0x6d' '0x75' '0x46']\n",
      " ['0x74' '0x79' '0x6e' '0x75']]\n"
     ]
    }
   ],
   "source": [
    "hex_func = np.vectorize(hex)\n",
    "print(hex_func(a))"
   ]
  },
  {
   "cell_type": "code",
   "execution_count": null,
   "metadata": {},
   "outputs": [],
   "source": []
  }
 ],
 "metadata": {
  "kernelspec": {
   "display_name": "DL",
   "language": "python",
   "name": "python3"
  },
  "language_info": {
   "codemirror_mode": {
    "name": "ipython",
    "version": 3
   },
   "file_extension": ".py",
   "mimetype": "text/x-python",
   "name": "python",
   "nbconvert_exporter": "python",
   "pygments_lexer": "ipython3",
   "version": "3.11.3"
  },
  "orig_nbformat": 4
 },
 "nbformat": 4,
 "nbformat_minor": 2
}
